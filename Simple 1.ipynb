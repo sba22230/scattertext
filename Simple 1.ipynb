{
 "cells": [
  {
   "cell_type": "code",
   "execution_count": null,
   "metadata": {},
   "outputs": [],
   "source": [
    "import spacy\n",
    "\n",
    "from scattertext import SampleCorpora, produce_scattertext_explorer\n",
    "\n",
    "from scattertext import produce_scattertext_html\n",
    "from scattertext.CorpusFromPandas import CorpusFromPandas\n",
    "\n",
    "nlp = spacy.load('en_core_web_trf')"
   ]
  },
  {
   "cell_type": "code",
   "execution_count": null,
   "metadata": {},
   "outputs": [],
   "source": [
    "import nltk\n",
    "from nltk.book import text9\n",
    "text = text9\n"
   ]
  },
  {
   "cell_type": "code",
   "execution_count": null,
   "metadata": {},
   "outputs": [],
   "source": [
    "\"\"\" convention_df = SampleCorpora.ConventionData2012.get_data()\n",
    "corpus = CorpusFromPandas(convention_df,\n",
    "                          category_col='party',\n",
    "                          text_col='text',\n",
    "                          nlp=nlp).build()\n",
    "\n",
    "html = produce_scattertext_html(corpus,\n",
    "                                    category='democrat',\n",
    "                                    category_name='Democratic',\n",
    "                                    not_category_name='Republican',\n",
    "                                    minimum_term_frequency=5,\n",
    "                                    #pmi_filter_thresold=4,\n",
    "                                    width_in_pixels=1000,height_in_pixels=1200) \"\"\""
   ]
  },
  {
   "cell_type": "code",
   "execution_count": null,
   "metadata": {},
   "outputs": [],
   "source": [
    "# convert Text into a list of sentences\n",
    "raw_text = text.generate(length = 5000, random_seed=22230).split()"
   ]
  },
  {
   "cell_type": "code",
   "execution_count": null,
   "metadata": {},
   "outputs": [],
   "source": [
    "doc = nlp(' '.join(raw_text))"
   ]
  },
  {
   "cell_type": "code",
   "execution_count": null,
   "metadata": {},
   "outputs": [],
   "source": [
    "import pandas as pd\n",
    "\n",
    "# create an empty dataframe with required columns\n",
    "df = pd.DataFrame(columns=['TokenText', 'TokenPOS', 'TokenDep'])\n",
    "\n",
    "\n"
   ]
  },
  {
   "cell_type": "code",
   "execution_count": null,
   "metadata": {},
   "outputs": [],
   "source": [
    "# loop through the tokens and append values to the dataframe\n",
    "for token in doc:\n",
    "    token_text = token.text\n",
    "    token_pos = token.pos_\n",
    "    token_dep = token.dep_\n",
    "    #df = df.append({'TokenText': token_text, 'TokenPOS': token_pos, 'TokenDep': token_dep}, ignore_index=True)\n",
    "    if token_pos == 'NOUN' or token_pos == 'VERB' :\n",
    "        new_row = pd.DataFrame([[token_text, token_pos, token_dep]], columns=['TokenText', 'TokenPOS', 'TokenDep'])\n",
    "        df = pd.concat([df, new_row], ignore_index=True)\n",
    "\n",
    "# print the dataframe\n",
    "print(df)\n"
   ]
  },
  {
   "cell_type": "code",
   "execution_count": null,
   "metadata": {},
   "outputs": [],
   "source": [
    "corpus = CorpusFromPandas(df,\n",
    "                          category_col='TokenPOS',\n",
    "                          text_col='TokenText',\n",
    "                          nlp=nlp).build()"
   ]
  },
  {
   "cell_type": "code",
   "execution_count": null,
   "metadata": {},
   "outputs": [],
   "source": [
    "html = produce_scattertext_html(corpus,\n",
    "                                    category='NOUN',\n",
    "                                    category_name='Nouns',\n",
    "                                    not_category_name='Verbs',\n",
    "                                    minimum_term_frequency=5,\n",
    "                                    #pmi_filter_thresold=4,\n",
    "                                    width_in_pixels=1000,height_in_pixels=1200)\n",
    "open('./simple.html', 'wb').write(html.encode('utf-8'))"
   ]
  },
  {
   "cell_type": "code",
   "execution_count": null,
   "metadata": {},
   "outputs": [],
   "source": [
    "corpus.get_categories()"
   ]
  },
  {
   "cell_type": "code",
   "execution_count": 22,
   "metadata": {},
   "outputs": [
    {
     "name": "stderr",
     "output_type": "stream",
     "text": [
      "c:\\Source\\Repos\\scattertext\\scattertext\\dispersion\\Dispersion.py:55: RuntimeWarning: divide by zero encountered in divide\n",
      "  self.p = X.multiply(csc_matrix(1. / X.sum(axis=1)))\n",
      "c:\\Source\\Repos\\scattertext\\scattertext\\dispersion\\Dispersion.py:137: RuntimeWarning: divide by zero encountered in divide\n",
      "  vfs = vf.multiply(1. / self.s)\n"
     ]
    },
    {
     "data": {
      "text/html": [
       "<div>\n",
       "<style scoped>\n",
       "    .dataframe tbody tr th:only-of-type {\n",
       "        vertical-align: middle;\n",
       "    }\n",
       "\n",
       "    .dataframe tbody tr th {\n",
       "        vertical-align: top;\n",
       "    }\n",
       "\n",
       "    .dataframe thead th {\n",
       "        text-align: right;\n",
       "    }\n",
       "</style>\n",
       "<table border=\"1\" class=\"dataframe\">\n",
       "  <thead>\n",
       "    <tr style=\"text-align: right;\">\n",
       "      <th></th>\n",
       "      <th>Frequency</th>\n",
       "      <th>Range</th>\n",
       "      <th>SD</th>\n",
       "      <th>VC</th>\n",
       "      <th>Juilland's D</th>\n",
       "      <th>Rosengren's S</th>\n",
       "      <th>DP</th>\n",
       "      <th>DP norm</th>\n",
       "      <th>KL-divergence</th>\n",
       "    </tr>\n",
       "  </thead>\n",
       "  <tbody>\n",
       "    <tr>\n",
       "      <th>gates</th>\n",
       "      <td>1</td>\n",
       "      <td>1</td>\n",
       "      <td>0.0274</td>\n",
       "      <td>36.469165</td>\n",
       "      <td>2.220446e-16</td>\n",
       "      <td>0.000754</td>\n",
       "      <td>0.999246</td>\n",
       "      <td>0.999246</td>\n",
       "      <td>10.372865</td>\n",
       "    </tr>\n",
       "    <tr>\n",
       "      <th>brass</th>\n",
       "      <td>1</td>\n",
       "      <td>1</td>\n",
       "      <td>0.0274</td>\n",
       "      <td>36.469165</td>\n",
       "      <td>2.220446e-16</td>\n",
       "      <td>0.000754</td>\n",
       "      <td>0.999246</td>\n",
       "      <td>0.999246</td>\n",
       "      <td>10.372865</td>\n",
       "    </tr>\n",
       "    <tr>\n",
       "      <th>band</th>\n",
       "      <td>1</td>\n",
       "      <td>1</td>\n",
       "      <td>0.0274</td>\n",
       "      <td>36.469165</td>\n",
       "      <td>2.220446e-16</td>\n",
       "      <td>0.000754</td>\n",
       "      <td>0.999246</td>\n",
       "      <td>0.999246</td>\n",
       "      <td>10.372865</td>\n",
       "    </tr>\n",
       "  </tbody>\n",
       "</table>\n",
       "</div>"
      ],
      "text/plain": [
       "       Frequency  Range      SD         VC  Juilland's D  Rosengren's S  \\\n",
       "gates          1      1  0.0274  36.469165  2.220446e-16       0.000754   \n",
       "brass          1      1  0.0274  36.469165  2.220446e-16       0.000754   \n",
       "band           1      1  0.0274  36.469165  2.220446e-16       0.000754   \n",
       "\n",
       "             DP   DP norm  KL-divergence  \n",
       "gates  0.999246  0.999246      10.372865  \n",
       "brass  0.999246  0.999246      10.372865  \n",
       "band   0.999246  0.999246      10.372865  "
      ]
     },
     "execution_count": 22,
     "metadata": {},
     "output_type": "execute_result"
    }
   ],
   "source": [
    "import scattertext as st\n",
    "dispersion = st.Dispersion(corpus)\n",
    "\n",
    "dispersion_df = dispersion.get_df()\n",
    "dispersion_df.head(3)\n"
   ]
  },
  {
   "cell_type": "code",
   "execution_count": 23,
   "metadata": {},
   "outputs": [
    {
     "data": {
      "text/html": [
       "<div>\n",
       "<style scoped>\n",
       "    .dataframe tbody tr th:only-of-type {\n",
       "        vertical-align: middle;\n",
       "    }\n",
       "\n",
       "    .dataframe tbody tr th {\n",
       "        vertical-align: top;\n",
       "    }\n",
       "\n",
       "    .dataframe thead th {\n",
       "        text-align: right;\n",
       "    }\n",
       "</style>\n",
       "<table border=\"1\" class=\"dataframe\">\n",
       "  <thead>\n",
       "    <tr style=\"text-align: right;\">\n",
       "      <th></th>\n",
       "      <th>Frequency</th>\n",
       "      <th>Range</th>\n",
       "      <th>SD</th>\n",
       "      <th>VC</th>\n",
       "      <th>Juilland's D</th>\n",
       "      <th>Rosengren's S</th>\n",
       "      <th>DP</th>\n",
       "      <th>DP norm</th>\n",
       "      <th>KL-divergence</th>\n",
       "      <th>X</th>\n",
       "      <th>Xpos</th>\n",
       "      <th>Y</th>\n",
       "      <th>Ypos</th>\n",
       "    </tr>\n",
       "  </thead>\n",
       "  <tbody>\n",
       "    <tr>\n",
       "      <th>gates</th>\n",
       "      <td>1</td>\n",
       "      <td>1</td>\n",
       "      <td>0.0274</td>\n",
       "      <td>36.469165</td>\n",
       "      <td>2.220446e-16</td>\n",
       "      <td>0.000754</td>\n",
       "      <td>0.999246</td>\n",
       "      <td>0.999246</td>\n",
       "      <td>10.372865</td>\n",
       "      <td>1</td>\n",
       "      <td>0.0</td>\n",
       "      <td>0.000754</td>\n",
       "      <td>0.0</td>\n",
       "    </tr>\n",
       "    <tr>\n",
       "      <th>brass</th>\n",
       "      <td>1</td>\n",
       "      <td>1</td>\n",
       "      <td>0.0274</td>\n",
       "      <td>36.469165</td>\n",
       "      <td>2.220446e-16</td>\n",
       "      <td>0.000754</td>\n",
       "      <td>0.999246</td>\n",
       "      <td>0.999246</td>\n",
       "      <td>10.372865</td>\n",
       "      <td>1</td>\n",
       "      <td>0.0</td>\n",
       "      <td>0.000754</td>\n",
       "      <td>0.0</td>\n",
       "    </tr>\n",
       "    <tr>\n",
       "      <th>band</th>\n",
       "      <td>1</td>\n",
       "      <td>1</td>\n",
       "      <td>0.0274</td>\n",
       "      <td>36.469165</td>\n",
       "      <td>2.220446e-16</td>\n",
       "      <td>0.000754</td>\n",
       "      <td>0.999246</td>\n",
       "      <td>0.999246</td>\n",
       "      <td>10.372865</td>\n",
       "      <td>1</td>\n",
       "      <td>0.0</td>\n",
       "      <td>0.000754</td>\n",
       "      <td>0.0</td>\n",
       "    </tr>\n",
       "  </tbody>\n",
       "</table>\n",
       "</div>"
      ],
      "text/plain": [
       "       Frequency  Range      SD         VC  Juilland's D  Rosengren's S  \\\n",
       "gates          1      1  0.0274  36.469165  2.220446e-16       0.000754   \n",
       "brass          1      1  0.0274  36.469165  2.220446e-16       0.000754   \n",
       "band           1      1  0.0274  36.469165  2.220446e-16       0.000754   \n",
       "\n",
       "             DP   DP norm  KL-divergence  X  Xpos         Y  Ypos  \n",
       "gates  0.999246  0.999246      10.372865  1   0.0  0.000754   0.0  \n",
       "brass  0.999246  0.999246      10.372865  1   0.0  0.000754   0.0  \n",
       "band   0.999246  0.999246      10.372865  1   0.0  0.000754   0.0  "
      ]
     },
     "execution_count": 23,
     "metadata": {},
     "output_type": "execute_result"
    }
   ],
   "source": [
    "dispersion_df = dispersion_df.assign(\n",
    "    X=lambda df: df.Frequency,\n",
    "    Xpos=lambda df: st.Scalers.log_scale(df.X),\n",
    "    Y=lambda df: df[\"Rosengren's S\"],\n",
    "    Ypos=lambda df: st.Scalers.scale(df.Y),\n",
    ")\n",
    "dispersion_df.head(3)"
   ]
  },
  {
   "cell_type": "code",
   "execution_count": 28,
   "metadata": {},
   "outputs": [
    {
     "data": {
      "text/html": [
       "<div>\n",
       "<style scoped>\n",
       "    .dataframe tbody tr th:only-of-type {\n",
       "        vertical-align: middle;\n",
       "    }\n",
       "\n",
       "    .dataframe tbody tr th {\n",
       "        vertical-align: top;\n",
       "    }\n",
       "\n",
       "    .dataframe thead th {\n",
       "        text-align: right;\n",
       "    }\n",
       "</style>\n",
       "<table border=\"1\" class=\"dataframe\">\n",
       "  <thead>\n",
       "    <tr style=\"text-align: right;\">\n",
       "      <th></th>\n",
       "      <th>level_0</th>\n",
       "      <th>index</th>\n",
       "      <th>TokenText</th>\n",
       "      <th>TokenPOS</th>\n",
       "      <th>TokenDep</th>\n",
       "    </tr>\n",
       "  </thead>\n",
       "  <tbody>\n",
       "    <tr>\n",
       "      <th>0</th>\n",
       "      <td>0</td>\n",
       "      <td>0</td>\n",
       "      <td>gates</td>\n",
       "      <td>NOUN</td>\n",
       "      <td>nsubj</td>\n",
       "    </tr>\n",
       "    <tr>\n",
       "      <th>1</th>\n",
       "      <td>1</td>\n",
       "      <td>1</td>\n",
       "      <td>brass</td>\n",
       "      <td>NOUN</td>\n",
       "      <td>compound</td>\n",
       "    </tr>\n",
       "    <tr>\n",
       "      <th>2</th>\n",
       "      <td>2</td>\n",
       "      <td>2</td>\n",
       "      <td>band</td>\n",
       "      <td>NOUN</td>\n",
       "      <td>pobj</td>\n",
       "    </tr>\n",
       "    <tr>\n",
       "      <th>3</th>\n",
       "      <td>3</td>\n",
       "      <td>3</td>\n",
       "      <td>seemed</td>\n",
       "      <td>VERB</td>\n",
       "      <td>ROOT</td>\n",
       "    </tr>\n",
       "    <tr>\n",
       "      <th>4</th>\n",
       "      <td>4</td>\n",
       "      <td>4</td>\n",
       "      <td>burning</td>\n",
       "      <td>VERB</td>\n",
       "      <td>amod</td>\n",
       "    </tr>\n",
       "    <tr>\n",
       "      <th>...</th>\n",
       "      <td>...</td>\n",
       "      <td>...</td>\n",
       "      <td>...</td>\n",
       "      <td>...</td>\n",
       "      <td>...</td>\n",
       "    </tr>\n",
       "    <tr>\n",
       "      <th>1326</th>\n",
       "      <td>1326</td>\n",
       "      <td>1326</td>\n",
       "      <td>Law</td>\n",
       "      <td>NOUN</td>\n",
       "      <td>nsubj</td>\n",
       "    </tr>\n",
       "    <tr>\n",
       "      <th>1327</th>\n",
       "      <td>1327</td>\n",
       "      <td>1327</td>\n",
       "      <td>policemen</td>\n",
       "      <td>NOUN</td>\n",
       "      <td>conj</td>\n",
       "    </tr>\n",
       "    <tr>\n",
       "      <th>1328</th>\n",
       "      <td>1328</td>\n",
       "      <td>1328</td>\n",
       "      <td>began</td>\n",
       "      <td>VERB</td>\n",
       "      <td>ROOT</td>\n",
       "    </tr>\n",
       "    <tr>\n",
       "      <th>1329</th>\n",
       "      <td>1329</td>\n",
       "      <td>1329</td>\n",
       "      <td>shake</td>\n",
       "      <td>VERB</td>\n",
       "      <td>xcomp</td>\n",
       "    </tr>\n",
       "    <tr>\n",
       "      <th>1330</th>\n",
       "      <td>1330</td>\n",
       "      <td>1330</td>\n",
       "      <td>looked</td>\n",
       "      <td>VERB</td>\n",
       "      <td>conj</td>\n",
       "    </tr>\n",
       "  </tbody>\n",
       "</table>\n",
       "<p>1331 rows × 5 columns</p>\n",
       "</div>"
      ],
      "text/plain": [
       "      level_0  index  TokenText TokenPOS  TokenDep\n",
       "0           0      0      gates     NOUN     nsubj\n",
       "1           1      1      brass     NOUN  compound\n",
       "2           2      2       band     NOUN      pobj\n",
       "3           3      3     seemed     VERB      ROOT\n",
       "4           4      4    burning     VERB      amod\n",
       "...       ...    ...        ...      ...       ...\n",
       "1326     1326   1326        Law     NOUN     nsubj\n",
       "1327     1327   1327  policemen     NOUN      conj\n",
       "1328     1328   1328      began     VERB      ROOT\n",
       "1329     1329   1329      shake     VERB     xcomp\n",
       "1330     1330   1330     looked     VERB      conj\n",
       "\n",
       "[1331 rows x 5 columns]"
      ]
     },
     "execution_count": 28,
     "metadata": {},
     "output_type": "execute_result"
    }
   ],
   "source": [
    "corpus.get_df()"
   ]
  },
  {
   "cell_type": "code",
   "execution_count": 29,
   "metadata": {},
   "outputs": [
    {
     "name": "stderr",
     "output_type": "stream",
     "text": [
      "c:\\Source\\Repos\\scattertext\\scattertext\\Scalers.py:212: RuntimeWarning: divide by zero encountered in divide\n",
      "  vec_ss = (vec_ss - vec_ss.min()) * 1. / (vec_ss.max() - vec_ss.min())\n",
      "c:\\Source\\Repos\\scattertext\\scattertext\\Scalers.py:212: RuntimeWarning: invalid value encountered in divide\n",
      "  vec_ss = (vec_ss - vec_ss.min()) * 1. / (vec_ss.max() - vec_ss.min())\n"
     ]
    }
   ],
   "source": [
    "html = st.dataframe_scattertext(\n",
    "    corpus,\n",
    "    plot_df=dispersion_df,\n",
    "    metadata=corpus.get_df()['TokenPOS'] + ' (' + corpus.get_df()['TokenDep'].str.upper() + ')',\n",
    "    ignore_categories=True,\n",
    "    x_label='Log Frequency',\n",
    "    y_label=\"Rosengren's S\",\n",
    "    y_axis_labels=['More Dispersion', 'Medium', 'Less Dispersion'],\n",
    ")"
   ]
  },
  {
   "cell_type": "code",
   "execution_count": 30,
   "metadata": {},
   "outputs": [
    {
     "data": {
      "text/plain": [
       "903986"
      ]
     },
     "execution_count": 30,
     "metadata": {},
     "output_type": "execute_result"
    }
   ],
   "source": [
    "open('./dispersion.html', 'wb').write(html.encode('utf-8'))"
   ]
  },
  {
   "cell_type": "code",
   "execution_count": null,
   "metadata": {},
   "outputs": [],
   "source": []
  }
 ],
 "metadata": {
  "kernelspec": {
   "display_name": "Python 3",
   "language": "python",
   "name": "python3"
  },
  "language_info": {
   "codemirror_mode": {
    "name": "ipython",
    "version": 3
   },
   "file_extension": ".py",
   "mimetype": "text/x-python",
   "name": "python",
   "nbconvert_exporter": "python",
   "pygments_lexer": "ipython3",
   "version": "3.11.5"
  }
 },
 "nbformat": 4,
 "nbformat_minor": 2
}
